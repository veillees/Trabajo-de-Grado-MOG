{
 "cells": [
  {
   "cell_type": "code",
   "execution_count": 2,
   "metadata": {},
   "outputs": [],
   "source": [
    "import sympy as sp"
   ]
  },
  {
   "cell_type": "markdown",
   "metadata": {},
   "source": [
    "Definición Variables $M$, $G$, $G_N$, $\\alpha$, $r$, $\\ell_z^2$, $\\delta$ "
   ]
  },
  {
   "cell_type": "code",
   "execution_count": 3,
   "metadata": {},
   "outputs": [],
   "source": [
    "M = sp.Symbol(\"M\")\n",
    "G = sp.Symbol(\"G\")\n",
    "G_N = sp.Symbol(\"G_N\")\n",
    "alpha = sp.Symbol(\"alpha\")\n",
    "r = sp.Symbol(\"r\")\n",
    "lz2 = sp.Symbol(\"ell_z^2\")\n",
    "delta = sp.Symbol(\"delta\")"
   ]
  },
  {
   "cell_type": "markdown",
   "metadata": {},
   "source": [
    "## Gamma MOG\n",
    "Defino el factor de dilatación de MOG como $\\gamma = 1 - \\frac{2GM}{r}+ \\frac{\\alpha G G_N M^2}{r^2}$"
   ]
  },
  {
   "cell_type": "code",
   "execution_count": 4,
   "metadata": {},
   "outputs": [
    {
     "data": {
      "text/latex": [
       "$\\displaystyle \\frac{G G_{N} M^{2} \\alpha}{r^{2}} - \\frac{2 G M}{r} + 1$"
      ],
      "text/plain": [
       "G*G_N*M**2*alpha/r**2 - 2*G*M/r + 1"
      ]
     },
     "execution_count": 4,
     "metadata": {},
     "output_type": "execute_result"
    }
   ],
   "source": [
    "mog_sch = 1 - 2*G*M/r + alpha*G_N*G*M**2/r**2\n",
    "mog_sch"
   ]
  },
  {
   "cell_type": "code",
   "execution_count": null,
   "metadata": {},
   "outputs": [],
   "source": [
    "print(mog_sch)"
   ]
  },
  {
   "cell_type": "markdown",
   "metadata": {},
   "source": [
    "## Potencial Efectivo\n",
    "Definición del potencial efectivo $V_{eff}$"
   ]
  },
  {
   "cell_type": "code",
   "execution_count": 6,
   "metadata": {},
   "outputs": [
    {
     "data": {
      "text/latex": [
       "$\\displaystyle \\left(\\delta + \\frac{\\ell^{2}_{z}}{r^{2}}\\right) \\left(\\frac{G G_{N} M^{2} \\alpha}{r^{2}} - \\frac{2 G M}{r} + 1\\right)$"
      ],
      "text/plain": [
       "(delta + ell_z^2/r**2)*(G*G_N*M**2*alpha/r**2 - 2*G*M/r + 1)"
      ]
     },
     "execution_count": 6,
     "metadata": {},
     "output_type": "execute_result"
    }
   ],
   "source": [
    "V_eff = mog_sch*(lz2/r**2 + delta) # Definición potencial efectivo\n",
    "V_eff"
   ]
  },
  {
   "cell_type": "code",
   "execution_count": 7,
   "metadata": {},
   "outputs": [
    {
     "data": {
      "text/latex": [
       "$\\displaystyle \\frac{G G_{N} M^{2} \\alpha \\delta}{r^{2}} + \\frac{G G_{N} M^{2} \\alpha \\ell^{2}_{z}}{r^{4}} - \\frac{2 G M \\delta}{r} - \\frac{2 G M \\ell^{2}_{z}}{r^{3}} + \\delta + \\frac{\\ell^{2}_{z}}{r^{2}}$"
      ],
      "text/plain": [
       "G*G_N*M**2*alpha*delta/r**2 + G*G_N*M**2*alpha*ell_z^2/r**4 - 2*G*M*delta/r - 2*G*M*ell_z^2/r**3 + delta + ell_z^2/r**2"
      ]
     },
     "execution_count": 7,
     "metadata": {},
     "output_type": "execute_result"
    }
   ],
   "source": [
    "sp.expand(V_eff) # potencial efectivo expandido"
   ]
  },
  {
   "cell_type": "markdown",
   "metadata": {},
   "source": [
    "Unidades Naturales $G_N = 1, G = (1+\\alpha)$ "
   ]
  },
  {
   "cell_type": "code",
   "execution_count": 8,
   "metadata": {},
   "outputs": [
    {
     "data": {
      "text/latex": [
       "$\\displaystyle \\left(\\delta + \\frac{\\ell^{2}_{z}}{r^{2}}\\right) \\left(\\frac{M^{2} \\alpha \\left(\\alpha + 1\\right)}{r^{2}} - \\frac{2 M \\left(\\alpha + 1\\right)}{r} + 1\\right)$"
      ],
      "text/plain": [
       "(delta + ell_z^2/r**2)*(M**2*alpha*(alpha + 1)/r**2 - 2*M*(alpha + 1)/r + 1)"
      ]
     },
     "execution_count": 8,
     "metadata": {},
     "output_type": "execute_result"
    }
   ],
   "source": [
    "V_eff_GN = V_eff.subs(G, G_N*(1+alpha))\n",
    "V_eff_nu = V_eff_GN.subs(G_N, 1)\n",
    "V_eff_nu"
   ]
  },
  {
   "cell_type": "markdown",
   "metadata": {},
   "source": [
    "## Derivadas\n",
    "Primera derivada $V'_{eff}$"
   ]
  },
  {
   "cell_type": "code",
   "execution_count": 9,
   "metadata": {},
   "outputs": [
    {
     "data": {
      "text/latex": [
       "$\\displaystyle - \\frac{2 G G_{N} M^{2} \\alpha \\delta}{r^{3}} - \\frac{4 G G_{N} M^{2} \\alpha \\ell^{2}_{z}}{r^{5}} + \\frac{2 G M \\delta}{r^{2}} + \\frac{6 G M \\ell^{2}_{z}}{r^{4}} - \\frac{2 \\ell^{2}_{z}}{r^{3}}$"
      ],
      "text/plain": [
       "-2*G*G_N*M**2*alpha*delta/r**3 - 4*G*G_N*M**2*alpha*ell_z^2/r**5 + 2*G*M*delta/r**2 + 6*G*M*ell_z^2/r**4 - 2*ell_z^2/r**3"
      ]
     },
     "execution_count": 9,
     "metadata": {},
     "output_type": "execute_result"
    }
   ],
   "source": [
    "d1_Veff = sp.expand(sp.diff(V_eff, r)) #primera derivada del Veff\n",
    "d1_Veff"
   ]
  },
  {
   "cell_type": "markdown",
   "metadata": {},
   "source": [
    "$V'_{eff} r^5 / 2$"
   ]
  },
  {
   "cell_type": "code",
   "execution_count": 10,
   "metadata": {},
   "outputs": [
    {
     "data": {
      "text/latex": [
       "$\\displaystyle - 2 G G_{N} M^{2} \\alpha \\ell^{2}_{z} + G M \\delta r^{3} + 3 G M \\ell^{2}_{z} r - r^{2} \\left(G G_{N} M^{2} \\alpha \\delta + \\ell^{2}_{z}\\right)$"
      ],
      "text/plain": [
       "-2*G*G_N*M**2*alpha*ell_z^2 + G*M*delta*r**3 + 3*G*M*ell_z^2*r - r**2*(G*G_N*M**2*alpha*delta + ell_z^2)"
      ]
     },
     "execution_count": 10,
     "metadata": {},
     "output_type": "execute_result"
    }
   ],
   "source": [
    "e1 = (d1_Veff*r**5) /(2) # primera derivada del Veff simplificada\n",
    "simpl_e1 = sp.simplify(e1)\n",
    "simpl_e1"
   ]
  },
  {
   "cell_type": "code",
   "execution_count": 25,
   "metadata": {},
   "outputs": [
    {
     "data": {
      "text/latex": [
       "$\\displaystyle - \\frac{2 M^{2} \\alpha^{2} \\delta}{r^{3}} - \\frac{4 M^{2} \\alpha^{2} \\ell^{2}_{z}}{r^{5}} - \\frac{2 M^{2} \\alpha \\delta}{r^{3}} - \\frac{4 M^{2} \\alpha \\ell^{2}_{z}}{r^{5}} + \\frac{2 M \\alpha \\delta}{r^{2}} + \\frac{6 M \\alpha \\ell^{2}_{z}}{r^{4}} + \\frac{2 M \\delta}{r^{2}} + \\frac{6 M \\ell^{2}_{z}}{r^{4}} - \\frac{2 \\ell^{2}_{z}}{r^{3}}$"
      ],
      "text/plain": [
       "-2*M**2*alpha**2*delta/r**3 - 4*M**2*alpha**2*ell_z^2/r**5 - 2*M**2*alpha*delta/r**3 - 4*M**2*alpha*ell_z^2/r**5 + 2*M*alpha*delta/r**2 + 6*M*alpha*ell_z^2/r**4 + 2*M*delta/r**2 + 6*M*ell_z^2/r**4 - 2*ell_z^2/r**3"
      ]
     },
     "execution_count": 25,
     "metadata": {},
     "output_type": "execute_result"
    }
   ],
   "source": [
    "# En unidades naturales\n",
    "d1_Veff_nu = sp.expand(sp.diff(V_eff_nu, r)) #primera derivada del Veff\n",
    "d1_Veff_nu"
   ]
  },
  {
   "cell_type": "markdown",
   "metadata": {},
   "source": [
    "Segunda derivada $V''_{eff}$"
   ]
  },
  {
   "cell_type": "code",
   "execution_count": 12,
   "metadata": {},
   "outputs": [
    {
     "data": {
      "text/latex": [
       "$\\displaystyle \\frac{6 G G_{N} M^{2} \\alpha \\delta}{r^{4}} + \\frac{20 G G_{N} M^{2} \\alpha \\ell^{2}_{z}}{r^{6}} - \\frac{4 G M \\delta}{r^{3}} - \\frac{24 G M \\ell^{2}_{z}}{r^{5}} + \\frac{6 \\ell^{2}_{z}}{r^{4}}$"
      ],
      "text/plain": [
       "6*G*G_N*M**2*alpha*delta/r**4 + 20*G*G_N*M**2*alpha*ell_z^2/r**6 - 4*G*M*delta/r**3 - 24*G*M*ell_z^2/r**5 + 6*ell_z^2/r**4"
      ]
     },
     "execution_count": 12,
     "metadata": {},
     "output_type": "execute_result"
    }
   ],
   "source": [
    "d2_Veff = sp.expand(sp.diff(d1_Veff,r)) #segunda derivada del Veff\n",
    "d2_Veff"
   ]
  },
  {
   "cell_type": "markdown",
   "metadata": {},
   "source": [
    "# Condiciones de órbita"
   ]
  },
  {
   "cell_type": "markdown",
   "metadata": {},
   "source": [
    "### Órbita circular: \n",
    "$V'_{eff} = 0$"
   ]
  },
  {
   "cell_type": "code",
   "execution_count": 13,
   "metadata": {},
   "outputs": [
    {
     "data": {
      "text/latex": [
       "$\\displaystyle - \\frac{2 G G_{N} M^{2} \\alpha \\delta}{r^{3}} - \\frac{4 G G_{N} M^{2} \\alpha \\ell^{2}_{z}}{r^{5}} + \\frac{2 G M \\delta}{r^{2}} + \\frac{6 G M \\ell^{2}_{z}}{r^{4}} - \\frac{2 \\ell^{2}_{z}}{r^{3}} = 0$"
      ],
      "text/plain": [
       "Eq(-2*G*G_N*M**2*alpha*delta/r**3 - 4*G*G_N*M**2*alpha*ell_z^2/r**5 + 2*G*M*delta/r**2 + 6*G*M*ell_z^2/r**4 - 2*ell_z^2/r**3, 0)"
      ]
     },
     "execution_count": 13,
     "metadata": {},
     "output_type": "execute_result"
    }
   ],
   "source": [
    "cond1 = sp.Eq(d1_Veff, 0) # condicion de dV=0\n",
    "cond1_d1 = cond1.subs(delta, 1)\n",
    "cond1_d0 = cond1.subs(delta, 0)\n",
    "cond1"
   ]
  },
  {
   "cell_type": "markdown",
   "metadata": {},
   "source": [
    "$\\ell^2_c$ : momento angular para órbita circular (dependiente de $r$)"
   ]
  },
  {
   "cell_type": "code",
   "execution_count": 26,
   "metadata": {},
   "outputs": [
    {
     "data": {
      "text/latex": [
       "$\\displaystyle \\frac{G M r^{2} \\left(- G_{N} M \\alpha + r\\right)}{2 G G_{N} M^{2} \\alpha - 3 G M r + r^{2}}$"
      ],
      "text/plain": [
       "G*M*r**2*(-G_N*M*alpha + r)/(2*G*G_N*M**2*alpha - 3*G*M*r + r**2)"
      ]
     },
     "execution_count": 26,
     "metadata": {},
     "output_type": "execute_result"
    }
   ],
   "source": [
    "sp.solve(cond1_d1, lz2)[0] # resolviendo la condición Veff'=0 para l^2 y delta = 1"
   ]
  },
  {
   "cell_type": "markdown",
   "metadata": {},
   "source": [
    "$r_c$ : radio órbita circular (dependiente de $\\ell_z^2$)"
   ]
  },
  {
   "cell_type": "code",
   "execution_count": 27,
   "metadata": {},
   "outputs": [
    {
     "data": {
      "text/latex": [
       "$\\displaystyle - \\frac{- 9 \\ell^{2}_{z} + \\frac{\\left(- G G_{N} M^{2} \\alpha - \\ell^{2}_{z}\\right)^{2}}{G^{2} M^{2}}}{3 \\sqrt[3]{- 27 G_{N} M \\alpha \\ell^{2}_{z} + \\frac{\\sqrt{- 4 \\left(- 9 \\ell^{2}_{z} + \\frac{\\left(- G G_{N} M^{2} \\alpha - \\ell^{2}_{z}\\right)^{2}}{G^{2} M^{2}}\\right)^{3} + \\left(- 54 G_{N} M \\alpha \\ell^{2}_{z} - \\frac{27 \\ell^{2}_{z} \\left(- G G_{N} M^{2} \\alpha - \\ell^{2}_{z}\\right)}{G M} + \\frac{2 \\left(- G G_{N} M^{2} \\alpha - \\ell^{2}_{z}\\right)^{3}}{G^{3} M^{3}}\\right)^{2}}}{2} - \\frac{27 \\ell^{2}_{z} \\left(- G G_{N} M^{2} \\alpha - \\ell^{2}_{z}\\right)}{2 G M} + \\frac{\\left(- G G_{N} M^{2} \\alpha - \\ell^{2}_{z}\\right)^{3}}{G^{3} M^{3}}}} - \\frac{\\sqrt[3]{- 27 G_{N} M \\alpha \\ell^{2}_{z} + \\frac{\\sqrt{- 4 \\left(- 9 \\ell^{2}_{z} + \\frac{\\left(- G G_{N} M^{2} \\alpha - \\ell^{2}_{z}\\right)^{2}}{G^{2} M^{2}}\\right)^{3} + \\left(- 54 G_{N} M \\alpha \\ell^{2}_{z} - \\frac{27 \\ell^{2}_{z} \\left(- G G_{N} M^{2} \\alpha - \\ell^{2}_{z}\\right)}{G M} + \\frac{2 \\left(- G G_{N} M^{2} \\alpha - \\ell^{2}_{z}\\right)^{3}}{G^{3} M^{3}}\\right)^{2}}}{2} - \\frac{27 \\ell^{2}_{z} \\left(- G G_{N} M^{2} \\alpha - \\ell^{2}_{z}\\right)}{2 G M} + \\frac{\\left(- G G_{N} M^{2} \\alpha - \\ell^{2}_{z}\\right)^{3}}{G^{3} M^{3}}}}{3} - \\frac{- G G_{N} M^{2} \\alpha - \\ell^{2}_{z}}{3 G M}$"
      ],
      "text/plain": [
       "-(-9*ell_z^2 + (-G*G_N*M**2*alpha - ell_z^2)**2/(G**2*M**2))/(3*(-27*G_N*M*alpha*ell_z^2 + sqrt(-4*(-9*ell_z^2 + (-G*G_N*M**2*alpha - ell_z^2)**2/(G**2*M**2))**3 + (-54*G_N*M*alpha*ell_z^2 - 27*ell_z^2*(-G*G_N*M**2*alpha - ell_z^2)/(G*M) + 2*(-G*G_N*M**2*alpha - ell_z^2)**3/(G**3*M**3))**2)/2 - 27*ell_z^2*(-G*G_N*M**2*alpha - ell_z^2)/(2*G*M) + (-G*G_N*M**2*alpha - ell_z^2)**3/(G**3*M**3))**(1/3)) - (-27*G_N*M*alpha*ell_z^2 + sqrt(-4*(-9*ell_z^2 + (-G*G_N*M**2*alpha - ell_z^2)**2/(G**2*M**2))**3 + (-54*G_N*M*alpha*ell_z^2 - 27*ell_z^2*(-G*G_N*M**2*alpha - ell_z^2)/(G*M) + 2*(-G*G_N*M**2*alpha - ell_z^2)**3/(G**3*M**3))**2)/2 - 27*ell_z^2*(-G*G_N*M**2*alpha - ell_z^2)/(2*G*M) + (-G*G_N*M**2*alpha - ell_z^2)**3/(G**3*M**3))**(1/3)/3 - (-G*G_N*M**2*alpha - ell_z^2)/(3*G*M)"
      ]
     },
     "execution_count": 27,
     "metadata": {},
     "output_type": "execute_result"
    }
   ],
   "source": [
    "sp.solve(cond1_d1, r)[0] # resolviendo la condición Veff'=0 para r y delta = 1"
   ]
  },
  {
   "cell_type": "markdown",
   "metadata": {},
   "source": [
    "### Problema\n",
    "La celda de arriba $^{[19]}$ es el momento angular despejado de $V'_{eff}=0$ i.e. la condición de momento angular para orbitas estables. Pero depende directamente de $\\delta$ por lo que para fotones daría cero directamente. Buscaré una solución analítica."
   ]
  },
  {
   "cell_type": "markdown",
   "metadata": {},
   "source": [
    "### Órbita estable: \n",
    "$V''_{eff} \\geq 0$ buscamos el límite, la menor órbita circular estable (ISCO)"
   ]
  },
  {
   "cell_type": "code",
   "execution_count": 15,
   "metadata": {},
   "outputs": [
    {
     "data": {
      "text/latex": [
       "$\\displaystyle \\frac{20 G G_{N} M^{2} \\alpha \\ell^{2}_{z}}{r^{6}} + \\frac{6 G G_{N} M^{2} \\alpha}{r^{4}} - \\frac{24 G M \\ell^{2}_{z}}{r^{5}} - \\frac{4 G M}{r^{3}} + \\frac{6 \\ell^{2}_{z}}{r^{4}} = 0$"
      ],
      "text/plain": [
       "Eq(20*G*G_N*M**2*alpha*ell_z^2/r**6 + 6*G*G_N*M**2*alpha/r**4 - 24*G*M*ell_z^2/r**5 - 4*G*M/r**3 + 6*ell_z^2/r**4, 0)"
      ]
     },
     "execution_count": 15,
     "metadata": {},
     "output_type": "execute_result"
    }
   ],
   "source": [
    "cond2 = sp.Eq(d2_Veff, 0) # condicion de d2V=0\n",
    "cond2_d1 = cond2.subs(delta, 1)\n",
    "cond2_d0 = cond2.subs(delta, 0)\n",
    "cond2_d1"
   ]
  },
  {
   "cell_type": "markdown",
   "metadata": {},
   "source": [
    "Resolviendo de la condición $V'_{eff} = 0$ obtenemos $l_z^2$ para"
   ]
  },
  {
   "cell_type": "markdown",
   "metadata": {},
   "source": [
    "$l_z^2|_{\\delta = 0}$ fotones"
   ]
  },
  {
   "cell_type": "code",
   "execution_count": 16,
   "metadata": {},
   "outputs": [
    {
     "data": {
      "text/latex": [
       "$\\displaystyle 0$"
      ],
      "text/plain": [
       "0"
      ]
     },
     "execution_count": 16,
     "metadata": {},
     "output_type": "execute_result"
    }
   ],
   "source": [
    "cond_lz_d0 = list(sp.solveset(cond1_d0, lz2))[0] # despejando lz2 de dV=0 con delta=0\n",
    "cond_lz_d0\n",
    "#cond1_d0"
   ]
  },
  {
   "cell_type": "markdown",
   "metadata": {},
   "source": [
    "$l_z^2|_{\\delta = 1}$  partículas masivas"
   ]
  },
  {
   "cell_type": "code",
   "execution_count": 30,
   "metadata": {},
   "outputs": [
    {
     "data": {
      "text/latex": [
       "$\\displaystyle \\frac{G M r^{2} \\left(- G_{N} M \\alpha + r\\right)}{2 G G_{N} M^{2} \\alpha - 3 G M r + r^{2}}$"
      ],
      "text/plain": [
       "G*M*r**2*(-G_N*M*alpha + r)/(2*G*G_N*M**2*alpha - 3*G*M*r + r**2)"
      ]
     },
     "execution_count": 30,
     "metadata": {},
     "output_type": "execute_result"
    }
   ],
   "source": [
    "r_c = sp.Symbol(\"r_c\") # radio orb circular\n",
    "l_c = sp.Symbol(\"ell_c\")\n",
    "cond_lz_d1 = list(sp.solveset(cond1_d1, lz2))[0] # despejando lz2 de dV=0 con delta=1\n",
    "#cond_r_d1 = list(sp.solveset(cond1_d1, r))[0] # despejando lz2 de dV=0 con delta=1\n",
    "#cond_lz_d1 = cond_lz_d1.subs(r,r_c)\n",
    "#cond_r_d1 = cond_r_d1.subs(lz2,l_c)\n",
    "cond_lz_d1"
   ]
  },
  {
   "cell_type": "code",
   "execution_count": 23,
   "metadata": {},
   "outputs": [
    {
     "data": {
      "text/latex": [
       "$\\displaystyle \\frac{G M r^{2} \\left(- G_{N} M \\alpha + r\\right)}{2 G G_{N} M^{2} \\alpha - 3 G M r + r^{2}}$"
      ],
      "text/plain": [
       "G*M*r**2*(-G_N*M*alpha + r)/(2*G*G_N*M**2*alpha - 3*G*M*r + r**2)"
      ]
     },
     "execution_count": 23,
     "metadata": {},
     "output_type": "execute_result"
    }
   ],
   "source": [
    "cond_r_d1\n",
    "#cond_lz_d1"
   ]
  },
  {
   "cell_type": "code",
   "execution_count": 31,
   "metadata": {},
   "outputs": [
    {
     "data": {
      "text/latex": [
       "$\\displaystyle \\frac{20 G^{2} G_{N} M^{3} \\alpha \\left(- G_{N} M \\alpha + r\\right)}{r^{4} \\cdot \\left(2 G G_{N} M^{2} \\alpha - 3 G M r + r^{2}\\right)} - \\frac{24 G^{2} M^{2} \\left(- G_{N} M \\alpha + r\\right)}{r^{3} \\cdot \\left(2 G G_{N} M^{2} \\alpha - 3 G M r + r^{2}\\right)} + \\frac{6 G G_{N} M^{2} \\alpha \\delta}{r^{4}} - \\frac{4 G M \\delta}{r^{3}} + \\frac{6 G M \\left(- G_{N} M \\alpha + r\\right)}{r^{2} \\cdot \\left(2 G G_{N} M^{2} \\alpha - 3 G M r + r^{2}\\right)} = 0$"
      ],
      "text/plain": [
       "Eq(20*G**2*G_N*M**3*alpha*(-G_N*M*alpha + r)/(r**4*(2*G*G_N*M**2*alpha - 3*G*M*r + r**2)) - 24*G**2*M**2*(-G_N*M*alpha + r)/(r**3*(2*G*G_N*M**2*alpha - 3*G*M*r + r**2)) + 6*G*G_N*M**2*alpha*delta/r**4 - 4*G*M*delta/r**3 + 6*G*M*(-G_N*M*alpha + r)/(r**2*(2*G*G_N*M**2*alpha - 3*G*M*r + r**2)), 0)"
      ]
     },
     "execution_count": 31,
     "metadata": {},
     "output_type": "execute_result"
    }
   ],
   "source": [
    "d2V_lz_eq = cond2.subs(lz2, cond_lz_d1) #ecuación = 0\n",
    "#d2V_lz_eq = d2V_lz_eq.simplify() #simplificar\n",
    "d2V_lz_eq #show"
   ]
  },
  {
   "cell_type": "code",
   "execution_count": null,
   "metadata": {},
   "outputs": [],
   "source": [
    "from sympy import S\n",
    "sols_d2V_0_r = sp.solve(d2V_lz_eq, r)\n",
    "sols_d2V_0_r"
   ]
  },
  {
   "cell_type": "code",
   "execution_count": 35,
   "metadata": {},
   "outputs": [
    {
     "data": {
      "text/latex": [
       "$\\displaystyle \\left\\{- \\frac{- \\frac{18 \\ell^{2}_{z}}{\\delta} + \\frac{\\left(- 3 G G_{N} M^{2} \\alpha \\delta - 3 \\ell^{2}_{z}\\right)^{2}}{4 G^{2} M^{2} \\delta^{2}}}{3 \\sqrt[3]{- \\frac{135 G_{N} M \\alpha \\ell^{2}_{z}}{2 \\delta} + \\frac{\\sqrt{- 4 \\left(- \\frac{18 \\ell^{2}_{z}}{\\delta} + \\frac{\\left(- 3 G G_{N} M^{2} \\alpha \\delta - 3 \\ell^{2}_{z}\\right)^{2}}{4 G^{2} M^{2} \\delta^{2}}\\right)^{3} + \\left(- \\frac{135 G_{N} M \\alpha \\ell^{2}_{z}}{\\delta} - \\frac{27 \\ell^{2}_{z} \\left(- 3 G G_{N} M^{2} \\alpha \\delta - 3 \\ell^{2}_{z}\\right)}{G M \\delta^{2}} + \\frac{\\left(- 3 G G_{N} M^{2} \\alpha \\delta - 3 \\ell^{2}_{z}\\right)^{3}}{4 G^{3} M^{3} \\delta^{3}}\\right)^{2}}}{2} - \\frac{27 \\ell^{2}_{z} \\left(- 3 G G_{N} M^{2} \\alpha \\delta - 3 \\ell^{2}_{z}\\right)}{2 G M \\delta^{2}} + \\frac{\\left(- 3 G G_{N} M^{2} \\alpha \\delta - 3 \\ell^{2}_{z}\\right)^{3}}{8 G^{3} M^{3} \\delta^{3}}}} - \\frac{\\sqrt[3]{- \\frac{135 G_{N} M \\alpha \\ell^{2}_{z}}{2 \\delta} + \\frac{\\sqrt{- 4 \\left(- \\frac{18 \\ell^{2}_{z}}{\\delta} + \\frac{\\left(- 3 G G_{N} M^{2} \\alpha \\delta - 3 \\ell^{2}_{z}\\right)^{2}}{4 G^{2} M^{2} \\delta^{2}}\\right)^{3} + \\left(- \\frac{135 G_{N} M \\alpha \\ell^{2}_{z}}{\\delta} - \\frac{27 \\ell^{2}_{z} \\left(- 3 G G_{N} M^{2} \\alpha \\delta - 3 \\ell^{2}_{z}\\right)}{G M \\delta^{2}} + \\frac{\\left(- 3 G G_{N} M^{2} \\alpha \\delta - 3 \\ell^{2}_{z}\\right)^{3}}{4 G^{3} M^{3} \\delta^{3}}\\right)^{2}}}{2} - \\frac{27 \\ell^{2}_{z} \\left(- 3 G G_{N} M^{2} \\alpha \\delta - 3 \\ell^{2}_{z}\\right)}{2 G M \\delta^{2}} + \\frac{\\left(- 3 G G_{N} M^{2} \\alpha \\delta - 3 \\ell^{2}_{z}\\right)^{3}}{8 G^{3} M^{3} \\delta^{3}}}}{3} - \\frac{- 3 G G_{N} M^{2} \\alpha \\delta - 3 \\ell^{2}_{z}}{6 G M \\delta}, - \\frac{- \\frac{18 \\ell^{2}_{z}}{\\delta} + \\frac{\\left(- 3 G G_{N} M^{2} \\alpha \\delta - 3 \\ell^{2}_{z}\\right)^{2}}{4 G^{2} M^{2} \\delta^{2}}}{3 \\left(- \\frac{1}{2} - \\frac{\\sqrt{3} i}{2}\\right) \\sqrt[3]{- \\frac{135 G_{N} M \\alpha \\ell^{2}_{z}}{2 \\delta} + \\frac{\\sqrt{- 4 \\left(- \\frac{18 \\ell^{2}_{z}}{\\delta} + \\frac{\\left(- 3 G G_{N} M^{2} \\alpha \\delta - 3 \\ell^{2}_{z}\\right)^{2}}{4 G^{2} M^{2} \\delta^{2}}\\right)^{3} + \\left(- \\frac{135 G_{N} M \\alpha \\ell^{2}_{z}}{\\delta} - \\frac{27 \\ell^{2}_{z} \\left(- 3 G G_{N} M^{2} \\alpha \\delta - 3 \\ell^{2}_{z}\\right)}{G M \\delta^{2}} + \\frac{\\left(- 3 G G_{N} M^{2} \\alpha \\delta - 3 \\ell^{2}_{z}\\right)^{3}}{4 G^{3} M^{3} \\delta^{3}}\\right)^{2}}}{2} - \\frac{27 \\ell^{2}_{z} \\left(- 3 G G_{N} M^{2} \\alpha \\delta - 3 \\ell^{2}_{z}\\right)}{2 G M \\delta^{2}} + \\frac{\\left(- 3 G G_{N} M^{2} \\alpha \\delta - 3 \\ell^{2}_{z}\\right)^{3}}{8 G^{3} M^{3} \\delta^{3}}}} - \\frac{\\left(- \\frac{1}{2} - \\frac{\\sqrt{3} i}{2}\\right) \\sqrt[3]{- \\frac{135 G_{N} M \\alpha \\ell^{2}_{z}}{2 \\delta} + \\frac{\\sqrt{- 4 \\left(- \\frac{18 \\ell^{2}_{z}}{\\delta} + \\frac{\\left(- 3 G G_{N} M^{2} \\alpha \\delta - 3 \\ell^{2}_{z}\\right)^{2}}{4 G^{2} M^{2} \\delta^{2}}\\right)^{3} + \\left(- \\frac{135 G_{N} M \\alpha \\ell^{2}_{z}}{\\delta} - \\frac{27 \\ell^{2}_{z} \\left(- 3 G G_{N} M^{2} \\alpha \\delta - 3 \\ell^{2}_{z}\\right)}{G M \\delta^{2}} + \\frac{\\left(- 3 G G_{N} M^{2} \\alpha \\delta - 3 \\ell^{2}_{z}\\right)^{3}}{4 G^{3} M^{3} \\delta^{3}}\\right)^{2}}}{2} - \\frac{27 \\ell^{2}_{z} \\left(- 3 G G_{N} M^{2} \\alpha \\delta - 3 \\ell^{2}_{z}\\right)}{2 G M \\delta^{2}} + \\frac{\\left(- 3 G G_{N} M^{2} \\alpha \\delta - 3 \\ell^{2}_{z}\\right)^{3}}{8 G^{3} M^{3} \\delta^{3}}}}{3} - \\frac{- 3 G G_{N} M^{2} \\alpha \\delta - 3 \\ell^{2}_{z}}{6 G M \\delta}, - \\frac{- \\frac{18 \\ell^{2}_{z}}{\\delta} + \\frac{\\left(- 3 G G_{N} M^{2} \\alpha \\delta - 3 \\ell^{2}_{z}\\right)^{2}}{4 G^{2} M^{2} \\delta^{2}}}{3 \\left(- \\frac{1}{2} + \\frac{\\sqrt{3} i}{2}\\right) \\sqrt[3]{- \\frac{135 G_{N} M \\alpha \\ell^{2}_{z}}{2 \\delta} + \\frac{\\sqrt{- 4 \\left(- \\frac{18 \\ell^{2}_{z}}{\\delta} + \\frac{\\left(- 3 G G_{N} M^{2} \\alpha \\delta - 3 \\ell^{2}_{z}\\right)^{2}}{4 G^{2} M^{2} \\delta^{2}}\\right)^{3} + \\left(- \\frac{135 G_{N} M \\alpha \\ell^{2}_{z}}{\\delta} - \\frac{27 \\ell^{2}_{z} \\left(- 3 G G_{N} M^{2} \\alpha \\delta - 3 \\ell^{2}_{z}\\right)}{G M \\delta^{2}} + \\frac{\\left(- 3 G G_{N} M^{2} \\alpha \\delta - 3 \\ell^{2}_{z}\\right)^{3}}{4 G^{3} M^{3} \\delta^{3}}\\right)^{2}}}{2} - \\frac{27 \\ell^{2}_{z} \\left(- 3 G G_{N} M^{2} \\alpha \\delta - 3 \\ell^{2}_{z}\\right)}{2 G M \\delta^{2}} + \\frac{\\left(- 3 G G_{N} M^{2} \\alpha \\delta - 3 \\ell^{2}_{z}\\right)^{3}}{8 G^{3} M^{3} \\delta^{3}}}} - \\frac{\\left(- \\frac{1}{2} + \\frac{\\sqrt{3} i}{2}\\right) \\sqrt[3]{- \\frac{135 G_{N} M \\alpha \\ell^{2}_{z}}{2 \\delta} + \\frac{\\sqrt{- 4 \\left(- \\frac{18 \\ell^{2}_{z}}{\\delta} + \\frac{\\left(- 3 G G_{N} M^{2} \\alpha \\delta - 3 \\ell^{2}_{z}\\right)^{2}}{4 G^{2} M^{2} \\delta^{2}}\\right)^{3} + \\left(- \\frac{135 G_{N} M \\alpha \\ell^{2}_{z}}{\\delta} - \\frac{27 \\ell^{2}_{z} \\left(- 3 G G_{N} M^{2} \\alpha \\delta - 3 \\ell^{2}_{z}\\right)}{G M \\delta^{2}} + \\frac{\\left(- 3 G G_{N} M^{2} \\alpha \\delta - 3 \\ell^{2}_{z}\\right)^{3}}{4 G^{3} M^{3} \\delta^{3}}\\right)^{2}}}{2} - \\frac{27 \\ell^{2}_{z} \\left(- 3 G G_{N} M^{2} \\alpha \\delta - 3 \\ell^{2}_{z}\\right)}{2 G M \\delta^{2}} + \\frac{\\left(- 3 G G_{N} M^{2} \\alpha \\delta - 3 \\ell^{2}_{z}\\right)^{3}}{8 G^{3} M^{3} \\delta^{3}}}}{3} - \\frac{- 3 G G_{N} M^{2} \\alpha \\delta - 3 \\ell^{2}_{z}}{6 G M \\delta}\\right\\} \\setminus \\left\\{0\\right\\}$"
      ],
      "text/plain": [
       "Complement({-(-18*ell_z^2/delta + (-3*G*G_N*M**2*alpha*delta - 3*ell_z^2)**2/(4*G**2*M**2*delta**2))/(3*(-135*G_N*M*alpha*ell_z^2/(2*delta) + sqrt(-4*(-18*ell_z^2/delta + (-3*G*G_N*M**2*alpha*delta - 3*ell_z^2)**2/(4*G**2*M**2*delta**2))**3 + (-135*G_N*M*alpha*ell_z^2/delta - 27*ell_z^2*(-3*G*G_N*M**2*alpha*delta - 3*ell_z^2)/(G*M*delta**2) + (-3*G*G_N*M**2*alpha*delta - 3*ell_z^2)**3/(4*G**3*M**3*delta**3))**2)/2 - 27*ell_z^2*(-3*G*G_N*M**2*alpha*delta - 3*ell_z^2)/(2*G*M*delta**2) + (-3*G*G_N*M**2*alpha*delta - 3*ell_z^2)**3/(8*G**3*M**3*delta**3))**(1/3)) - (-135*G_N*M*alpha*ell_z^2/(2*delta) + sqrt(-4*(-18*ell_z^2/delta + (-3*G*G_N*M**2*alpha*delta - 3*ell_z^2)**2/(4*G**2*M**2*delta**2))**3 + (-135*G_N*M*alpha*ell_z^2/delta - 27*ell_z^2*(-3*G*G_N*M**2*alpha*delta - 3*ell_z^2)/(G*M*delta**2) + (-3*G*G_N*M**2*alpha*delta - 3*ell_z^2)**3/(4*G**3*M**3*delta**3))**2)/2 - 27*ell_z^2*(-3*G*G_N*M**2*alpha*delta - 3*ell_z^2)/(2*G*M*delta**2) + (-3*G*G_N*M**2*alpha*delta - 3*ell_z^2)**3/(8*G**3*M**3*delta**3))**(1/3)/3 - (-3*G*G_N*M**2*alpha*delta - 3*ell_z^2)/(6*G*M*delta), -(-18*ell_z^2/delta + (-3*G*G_N*M**2*alpha*delta - 3*ell_z^2)**2/(4*G**2*M**2*delta**2))/(3*(-1/2 - sqrt(3)*I/2)*(-135*G_N*M*alpha*ell_z^2/(2*delta) + sqrt(-4*(-18*ell_z^2/delta + (-3*G*G_N*M**2*alpha*delta - 3*ell_z^2)**2/(4*G**2*M**2*delta**2))**3 + (-135*G_N*M*alpha*ell_z^2/delta - 27*ell_z^2*(-3*G*G_N*M**2*alpha*delta - 3*ell_z^2)/(G*M*delta**2) + (-3*G*G_N*M**2*alpha*delta - 3*ell_z^2)**3/(4*G**3*M**3*delta**3))**2)/2 - 27*ell_z^2*(-3*G*G_N*M**2*alpha*delta - 3*ell_z^2)/(2*G*M*delta**2) + (-3*G*G_N*M**2*alpha*delta - 3*ell_z^2)**3/(8*G**3*M**3*delta**3))**(1/3)) - (-1/2 - sqrt(3)*I/2)*(-135*G_N*M*alpha*ell_z^2/(2*delta) + sqrt(-4*(-18*ell_z^2/delta + (-3*G*G_N*M**2*alpha*delta - 3*ell_z^2)**2/(4*G**2*M**2*delta**2))**3 + (-135*G_N*M*alpha*ell_z^2/delta - 27*ell_z^2*(-3*G*G_N*M**2*alpha*delta - 3*ell_z^2)/(G*M*delta**2) + (-3*G*G_N*M**2*alpha*delta - 3*ell_z^2)**3/(4*G**3*M**3*delta**3))**2)/2 - 27*ell_z^2*(-3*G*G_N*M**2*alpha*delta - 3*ell_z^2)/(2*G*M*delta**2) + (-3*G*G_N*M**2*alpha*delta - 3*ell_z^2)**3/(8*G**3*M**3*delta**3))**(1/3)/3 - (-3*G*G_N*M**2*alpha*delta - 3*ell_z^2)/(6*G*M*delta), -(-18*ell_z^2/delta + (-3*G*G_N*M**2*alpha*delta - 3*ell_z^2)**2/(4*G**2*M**2*delta**2))/(3*(-1/2 + sqrt(3)*I/2)*(-135*G_N*M*alpha*ell_z^2/(2*delta) + sqrt(-4*(-18*ell_z^2/delta + (-3*G*G_N*M**2*alpha*delta - 3*ell_z^2)**2/(4*G**2*M**2*delta**2))**3 + (-135*G_N*M*alpha*ell_z^2/delta - 27*ell_z^2*(-3*G*G_N*M**2*alpha*delta - 3*ell_z^2)/(G*M*delta**2) + (-3*G*G_N*M**2*alpha*delta - 3*ell_z^2)**3/(4*G**3*M**3*delta**3))**2)/2 - 27*ell_z^2*(-3*G*G_N*M**2*alpha*delta - 3*ell_z^2)/(2*G*M*delta**2) + (-3*G*G_N*M**2*alpha*delta - 3*ell_z^2)**3/(8*G**3*M**3*delta**3))**(1/3)) - (-1/2 + sqrt(3)*I/2)*(-135*G_N*M*alpha*ell_z^2/(2*delta) + sqrt(-4*(-18*ell_z^2/delta + (-3*G*G_N*M**2*alpha*delta - 3*ell_z^2)**2/(4*G**2*M**2*delta**2))**3 + (-135*G_N*M*alpha*ell_z^2/delta - 27*ell_z^2*(-3*G*G_N*M**2*alpha*delta - 3*ell_z^2)/(G*M*delta**2) + (-3*G*G_N*M**2*alpha*delta - 3*ell_z^2)**3/(4*G**3*M**3*delta**3))**2)/2 - 27*ell_z^2*(-3*G*G_N*M**2*alpha*delta - 3*ell_z^2)/(2*G*M*delta**2) + (-3*G*G_N*M**2*alpha*delta - 3*ell_z^2)**3/(8*G**3*M**3*delta**3))**(1/3)/3 - (-3*G*G_N*M**2*alpha*delta - 3*ell_z^2)/(6*G*M*delta)}, {0})"
      ]
     },
     "execution_count": 35,
     "metadata": {},
     "output_type": "execute_result"
    }
   ],
   "source": [
    "d2V_lz = d2_Veff.subs(lz2, cond_lz_d1) #ecuación = 0\n",
    "dV2_lz = d2_Veff.simplify() #simplificar\n",
    "dV2_lz*(r**6 / 2) #show\n",
    "aa = sp.Eq(dV2_lz,0)\n",
    "sp.solveset(aa,r)"
   ]
  },
  {
   "cell_type": "code",
   "execution_count": null,
   "metadata": {},
   "outputs": [
    {
     "data": {
      "text/latex": [
       "$\\displaystyle M \\left(\\frac{3 G}{2} - \\frac{\\sqrt{- G \\left(- 9 G + 8 G_{N} \\alpha\\right)}}{2}\\right)$"
      ],
      "text/plain": [
       "M*(3*G/2 - sqrt(-G*(-9*G + 8*G_N*alpha))/2)"
      ]
     },
     "execution_count": 27,
     "metadata": {},
     "output_type": "execute_result"
    }
   ],
   "source": [
    "sol_q_1 = M*(3*G/2 - sp.sqrt(-G*(-9*G + 8*G_N*alpha))/2)\n",
    "sol_q_1"
   ]
  }
 ],
 "metadata": {
  "kernelspec": {
   "display_name": "base",
   "language": "python",
   "name": "python3"
  },
  "language_info": {
   "codemirror_mode": {
    "name": "ipython",
    "version": 3
   },
   "file_extension": ".py",
   "mimetype": "text/x-python",
   "name": "python",
   "nbconvert_exporter": "python",
   "pygments_lexer": "ipython3",
   "version": "3.9.12"
  }
 },
 "nbformat": 4,
 "nbformat_minor": 2
}
