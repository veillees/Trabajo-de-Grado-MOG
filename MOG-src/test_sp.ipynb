{
 "cells": [
  {
   "cell_type": "code",
   "execution_count": 6,
   "metadata": {},
   "outputs": [
    {
     "name": "stdout",
     "output_type": "stream",
     "text": [
      "d**2 + 3*d + 2*e\n"
     ]
    }
   ],
   "source": [
    "import sympy as sp\n",
    "\n",
    "# Define symbols and corresponding variable names\n",
    "symbols = [sp.Symbol(\"\\delta\"), sp.Symbol(\"\\epsilon\")]\n",
    "variables = [\"d\", \"e\"]\n",
    "\n",
    "# Create a mapping dictionary\n",
    "symbol_to_var = dict(zip(symbols, variables))\n",
    "\n",
    "# Define an expression using the symbols\n",
    "expr = symbols[0]**2 + 3*symbols[0] + 2*symbols[1]\n",
    "\n",
    "# Substitute the symbols with the variable names\n",
    "result = expr.subs(symbol_to_var)\n",
    "\n",
    "print(result)"
   ]
  },
  {
   "cell_type": "code",
   "execution_count": 7,
   "metadata": {},
   "outputs": [],
   "source": [
    "symbols = [sp.Symbol(\"M\"), sp.Symbol(\"G\"), sp.Symbol(\"G_N\"), sp.Symbol(\"\\\\alpha\"), sp.Symbol(\"r\"), sp.Symbol(\"\\ell_z^2\"), sp.Symbol(\"\\delta\")]\n",
    "variables = [\"M\", \"G\", \"G_N\", \"alpha\", \"r\", \"lz2\", \"delta\"]\n",
    "symbol_to_var = dict(zip(symbols, variables))"
   ]
  },
  {
   "cell_type": "code",
   "execution_count": 10,
   "metadata": {},
   "outputs": [
    {
     "data": {
      "text/latex": [
       "$\\displaystyle \\gamma \\mu$"
      ],
      "text/plain": [
       "\\gamma*\\mu"
      ]
     },
     "execution_count": 10,
     "metadata": {},
     "output_type": "execute_result"
    }
   ],
   "source": [
    "M = sp.Symbol(\"\\mu\")\n",
    "G = sp.Symbol(\"\\gamma\")\n",
    "expr = M*G\n",
    "expr"
   ]
  },
  {
   "cell_type": "code",
   "execution_count": null,
   "metadata": {},
   "outputs": [],
   "source": []
  }
 ],
 "metadata": {
  "kernelspec": {
   "display_name": "base",
   "language": "python",
   "name": "python3"
  },
  "language_info": {
   "codemirror_mode": {
    "name": "ipython",
    "version": 3
   },
   "file_extension": ".py",
   "mimetype": "text/x-python",
   "name": "python",
   "nbconvert_exporter": "python",
   "pygments_lexer": "ipython3",
   "version": "3.9.12"
  }
 },
 "nbformat": 4,
 "nbformat_minor": 2
}
