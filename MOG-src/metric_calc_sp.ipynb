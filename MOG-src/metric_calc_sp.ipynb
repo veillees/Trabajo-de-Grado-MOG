{
 "cells": [
  {
   "cell_type": "code",
   "execution_count": 2,
   "metadata": {},
   "outputs": [],
   "source": [
    "import sympy as sp\n",
    "from sympy.matrices import Matrix, eye, zeros, ones, diag, GramSchmidt"
   ]
  },
  {
   "cell_type": "code",
   "execution_count": 7,
   "metadata": {},
   "outputs": [],
   "source": [
    "a = sp.Symbol(\"a\")\n",
    "M = sp.Symbol(\"M\")\n",
    "G = sp.Symbol(\"G\")\n",
    "G_N = sp.Symbol(\"G_N\")\n",
    "alpha = sp.Symbol(\"alpha\")\n",
    "\n",
    "r = sp.Symbol(\"r\")\n",
    "th = sp.Symbol(\"theta\")\n",
    "\n",
    "\n",
    "lz2 = sp.Symbol(\"ell_z^2\")\n",
    "delta = sp.Symbol(\"delta\")"
   ]
  },
  {
   "cell_type": "code",
   "execution_count": 8,
   "metadata": {},
   "outputs": [],
   "source": [
    "#guu_00 = (M^2*a^2*alpha^2*sp.sin(th)^2 + M^2*a^2*alpha*sp.sin(th)^2 - 2*M*a^2*alpha*r*sp.sin(th)^2 + a^4*sp.sin(th)^2 - 2*M*a^2*r*sp.sin(th)^2 + a^2*r^2*sp.sin(th)^2 - a^4 - 2*a^2*r^2 - r^4)*(a^2*sp.cos(th)^2 + r^2)^2/(M^4*a^4*alpha^4*sp.cos(th)^4 + M^2*a^6*alpha^2*sp.cos(th)^6 + 2*M^4*a^4*alpha^3*sp.cos(th)^4 - 4*M^3*a^4*alpha^3*r*sp.cos(th)^4 + M^2*a^6*alpha*sp.cos(th)^6 - 2*M*a^6*alpha*r*sp.cos(th)^6 - M^4*a^4*alpha^4*sp.cos(th)^2 + M^4*a^2*alpha^4*r^2*sp.cos(th)^2 + M^4*a^4*alpha^2*sp.cos(th)^4 - 8*M^3*a^4*alpha^2*r*sp.cos(th)^4 + 7*M^2*a^4*alpha^2*r^2*sp.cos(th)^4 + a^8*sp.cos(th)^6 - 2*M*a^6*r*sp.cos(th)^6 + a^6*r^2*sp.cos(th)^6 - 2*M^4*a^4*alpha^3*sp.cos(th)^2 + 4*M^3*a^4*alpha^3*r*sp.cos(th)^2 + 2*M^4*a^2*alpha^3*r^2*sp.cos(th)^2 - 4*M^3*a^2*alpha^3*r^3*sp.cos(th)^2 - 4*M^3*a^4*alpha*r*sp.cos(th)^4 + 11*M^2*a^4*alpha*r^2*sp.cos(th)^4 - 6*M*a^4*alpha*r^3*sp.cos(th)^4 - M^4*a^2*alpha^4*r^2 - M^4*a^4*alpha^2*sp.cos(th)^2 - 4*M^4*a^2*alpha^4*sp.cos(th)^2 + 8*M^3*a^4*alpha^2*r*sp.cos(th)^2 + M^4*a^2*alpha^2*r^2*sp.cos(th)^2 - 4*M^2*a^4*alpha^2*r^2*sp.cos(th)^2 - 8*M^3*a^2*alpha^2*r^3*sp.cos(th)^2 + 7*M^2*a^2*alpha^2*r^4*sp.cos(th)^2 + 4*M^2*a^4*r^2*sp.cos(th)^4 + 3*a^6*r^2*sp.cos(th)^4 - 6*M*a^4*r^3*sp.cos(th)^4 + 3*a^4*r^4*sp.cos(th)^4 - 2*M^4*a^2*alpha^3*r^2 + 4*M^3*a^2*alpha^3*r^3 - 8*M^4*a^2*alpha^3*sp.cos(th)^2 + 4*M^3*a^4*alpha*r*sp.cos(th)^2 + 16*M^3*a^2*alpha^3*r*sp.cos(th)^2 - 8*M^2*a^4*alpha*r^2*sp.cos(th)^2 - 4*M^3*a^2*alpha*r^3*sp.cos(th)^2 + 11*M^2*a^2*alpha*r^4*sp.cos(th)^2 - 6*M*a^2*alpha*r^5*sp.cos(th)^2 + 4*M^4*a^2*alpha^4 - M^4*a^2*alpha^2*r^2 + 8*M^3*a^2*alpha^2*r^3 - 4*M^2*a^2*alpha^2*r^4 + M^2*alpha^2*r^6 - 4*M^4*a^2*alpha^2*sp.cos(th)^2 + 32*M^3*a^2*alpha^2*r*sp.cos(th)^2 - 4*M^2*a^4*r^2*sp.cos(th)^2 - 16*M^2*a^2*alpha^2*r^2*sp.cos(th)^2 + 4*M^2*a^2*r^4*sp.cos(th)^2 + 3*a^4*r^4*sp.cos(th)^2 - 6*M*a^2*r^5*sp.cos(th)^2 + 3*a^2*r^6*sp.cos(th)^2 + 8*M^4*a^2*alpha^3 - 16*M^3*a^2*alpha^3*r + 4*M^3*a^2*alpha*r^3 - 8*M^2*a^2*alpha*r^4 + M^2*alpha*r^6 - 2*M*alpha*r^7 + 16*M^3*a^2*alpha*r*sp.cos(th)^2 - 32*M^2*a^2*alpha*r^2*sp.cos(th)^2 + 4*M^4*a^2*alpha^2 - 32*M^3*a^2*alpha^2*r + 16*M^2*a^2*alpha^2*r^2 - 4*M^2*a^2*r^4 + a^2*r^6 - 2*M*r^7 + r^8 - 16*M^2*a^2*r^2*sp.cos(th)^2 - 16*M^3*a^2*alpha*r + 32*M^2*a^2*alpha*r^2 + 16*M^2*a^2*r^2)\n"
   ]
  },
  {
   "cell_type": "code",
   "execution_count": 9,
   "metadata": {},
   "outputs": [],
   "source": [
    "gdd_sch = eye(4)\n",
    "mog_sch = 1 - 2*G*M/r + alpha*G_N*G*M**2/r**2\n",
    "gdd_sch[0,0] = mog_sch\n",
    "gdd_sch[1,1] = 1/(mog_sch)\n",
    "gdd_sch[2,2] = r**2\n",
    "gdd_sch[3,3] = (r*sp.sin(th))**2\n",
    "#guu_sch[0,3] = "
   ]
  },
  {
   "cell_type": "code",
   "execution_count": 11,
   "metadata": {},
   "outputs": [
    {
     "data": {
      "text/latex": [
       "$\\displaystyle \\left[\\begin{matrix}\\frac{r^{2}}{G G_{N} M^{2} \\alpha - 2 G M r + r^{2}} & 0 & 0 & 0\\\\0 & \\frac{G G_{N} M^{2} \\alpha - 2 G M r + r^{2}}{r^{2}} & 0 & 0\\\\0 & 0 & \\frac{1}{r^{2}} & 0\\\\0 & 0 & 0 & \\frac{1}{r^{2} \\sin^{2}{\\left(\\theta \\right)}}\\end{matrix}\\right]$"
      ],
      "text/plain": [
       "Matrix([\n",
       "[r**2/(G*G_N*M**2*alpha - 2*G*M*r + r**2),                                        0,       0,                      0],\n",
       "[                                       0, (G*G_N*M**2*alpha - 2*G*M*r + r**2)/r**2,       0,                      0],\n",
       "[                                       0,                                        0, r**(-2),                      0],\n",
       "[                                       0,                                        0,       0, 1/(r**2*sin(theta)**2)]])"
      ]
     },
     "execution_count": 11,
     "metadata": {},
     "output_type": "execute_result"
    }
   ],
   "source": [
    "guu_sch = gdd_sch.inv()\n",
    "guu_sch"
   ]
  },
  {
   "cell_type": "code",
   "execution_count": null,
   "metadata": {},
   "outputs": [],
   "source": [
    "gdd_kerr = eye(4)\n",
    "Delta_mog = r**2 - 2*G*M*r + a**2 + a*G_N*G*M*2\n",
    "rho2_mog = r**2 + (a**2)*(sp.cos(th))**2"
   ]
  }
 ],
 "metadata": {
  "kernelspec": {
   "display_name": "base",
   "language": "python",
   "name": "python3"
  },
  "language_info": {
   "codemirror_mode": {
    "name": "ipython",
    "version": 3
   },
   "file_extension": ".py",
   "mimetype": "text/x-python",
   "name": "python",
   "nbconvert_exporter": "python",
   "pygments_lexer": "ipython3",
   "version": "3.9.12"
  }
 },
 "nbformat": 4,
 "nbformat_minor": 2
}
